{
 "cells": [
  {
   "cell_type": "markdown",
   "id": "a7cc010b",
   "metadata": {},
   "source": [
    "**Librerias**"
   ]
  },
  {
   "cell_type": "code",
   "execution_count": 1,
   "id": "62416cc8",
   "metadata": {},
   "outputs": [],
   "source": [
    "import pandas as pd\n",
    "import requests\n",
    "from pathlib import Path"
   ]
  },
  {
   "cell_type": "markdown",
   "id": "63763d52",
   "metadata": {},
   "source": [
    "**Funciones**"
   ]
  },
  {
   "cell_type": "code",
   "execution_count": 19,
   "id": "6c9ef2dd",
   "metadata": {},
   "outputs": [],
   "source": [
    "def games_list():\n",
    "    \"\"\"Esta funcion contiene el listado de juegos a buscar \"\"\"\n",
    "    \n",
    "    game_list = ['minecraft', 'call of duty', 'star wars']\n",
    "    \n",
    "    return game_list"
   ]
  },
  {
   "cell_type": "code",
   "execution_count": 20,
   "id": "cba5c8a0",
   "metadata": {},
   "outputs": [],
   "source": [
    "def get_API_response(game_name):\n",
    "    \n",
    "    \"\"\"Esta funcion obtiene la respuesta de la API al ingresar el nombre del videojuego\"\"\"\n",
    "    \n",
    "    url = \"https://game-prices.p.rapidapi.com/games\"\n",
    "\n",
    "    querystring = {f\"title\":{game_name},\n",
    "        \"region\":\"us\",\"offset\":\"0\",\"limit\":\"100\"}\n",
    "\n",
    "    headers = {\n",
    "        \"X-RapidAPI-Key\": \"\",\n",
    "        \"X-RapidAPI-Host\": \"game-prices.p.rapidapi.com\"\n",
    "    }\n",
    "\n",
    "    response = requests.request(\"GET\", url, headers=headers, params=querystring)\n",
    "    \n",
    "    return response"
   ]
  },
  {
   "cell_type": "code",
   "execution_count": 21,
   "id": "36d0a621",
   "metadata": {},
   "outputs": [],
   "source": [
    "def json_cleaning(response):\n",
    "    \n",
    "    \"\"\"Esta funcion realiza la limpieza de la data y crea un dataframe con los precios del videojuego\"\"\"\n",
    "    \n",
    "    res_json = response.json()\n",
    "    df = pd.DataFrame(res_json)\n",
    "    df_game = pd.json_normalize(df['games'])\n",
    "    exploded = df_game.explode('stores')\n",
    "    df_final = pd.concat([exploded\n",
    "               [[\"id\",\"name\",\"releaseDate\",\"type\",\"currentLowestPrice\",\"currency\",\"availability\"]]\n",
    "               .reset_index(drop=True), pd.json_normalize(exploded['stores'])], axis=1)\n",
    "    \n",
    "    return df_final"
   ]
  },
  {
   "cell_type": "code",
   "execution_count": 22,
   "id": "9dcf4dc1",
   "metadata": {},
   "outputs": [],
   "source": [
    "def game_prices():\n",
    "    \n",
    "    \"\"\"Esta funcion crea un archivo y lo coloca dentro de un folder especifico a traves de la obtencion \n",
    "    y procesamiento de la informacion obtenida de la API \"\"\"\n",
    "    \n",
    "    url = \"https://game-prices.p.rapidapi.com/games\"\n",
    "    headers = {\n",
    "        \"X-RapidAPI-Key\": \"fedb574b3fmsh0e54c4b50515cd9p18c3d3jsn15b32ccc2828\",\n",
    "        \"X-RapidAPI-Host\": \"game-prices.p.rapidapi.com\"\n",
    "    }\n",
    "    game_list = games_list()\n",
    "    \n",
    "    for num, game in enumerate(game_list, start=1):\n",
    "\n",
    "        print(f\"This game is #{num}\")\n",
    "        filename = f\"{game} game prices.csv\"\n",
    "        filename = \"data_game/\"+ filename\n",
    "        print(\"Document will be place and call: \"+ filename)\n",
    "\n",
    "        if not Path(filename).is_file():\n",
    "            page_source = get_API_response(game)\n",
    "            print(game)\n",
    "            print(\"Finish extracting game prices.\")\n",
    "            print(\"cleanning content.\")\n",
    "            df = json_cleaning(page_source)\n",
    "            print(\"File Building and Appending.\")\n",
    "\n",
    "            df.to_csv(filename, index = True)\n",
    "            print(f\"{filename} saved.\")\n",
    "            print(\"--------\"*5)\n",
    "            print()\n",
    "\n",
    "    print(\"Finished!\")\n",
    "    \n",
    "    "
   ]
  },
  {
   "cell_type": "markdown",
   "id": "4492e491",
   "metadata": {},
   "source": [
    "**Prueba**"
   ]
  },
  {
   "cell_type": "code",
   "execution_count": 18,
   "id": "c3d5def9",
   "metadata": {},
   "outputs": [
    {
     "name": "stdout",
     "output_type": "stream",
     "text": [
      "This game is #1\n",
      "Document will be place and call: data_game/minecraft game prices.csv\n",
      "minecraft\n",
      "Finish extracting game prices.\n",
      "cleanning content.\n",
      "File Building and Appending.\n",
      "data_game/minecraft game prices.csv saved.\n",
      "----------------------------------------\n",
      "\n",
      "This game is #2\n",
      "Document will be place and call: data_game/call of duty game prices.csv\n",
      "call of duty\n",
      "Finish extracting game prices.\n",
      "cleanning content.\n",
      "File Building and Appending.\n",
      "data_game/call of duty game prices.csv saved.\n",
      "----------------------------------------\n",
      "\n",
      "This game is #3\n",
      "Document will be place and call: data_game/star wars game prices.csv\n",
      "star wars\n",
      "Finish extracting game prices.\n",
      "cleanning content.\n",
      "File Building and Appending.\n",
      "data_game/star wars game prices.csv saved.\n",
      "----------------------------------------\n",
      "\n",
      "Finished!\n"
     ]
    }
   ],
   "source": [
    "game_prices()"
   ]
  }
 ],
 "metadata": {
  "kernelspec": {
   "display_name": "Python 3 (ipykernel)",
   "language": "python",
   "name": "python3"
  },
  "language_info": {
   "codemirror_mode": {
    "name": "ipython",
    "version": 3
   },
   "file_extension": ".py",
   "mimetype": "text/x-python",
   "name": "python",
   "nbconvert_exporter": "python",
   "pygments_lexer": "ipython3",
   "version": "3.9.7"
  }
 },
 "nbformat": 4,
 "nbformat_minor": 5
}
